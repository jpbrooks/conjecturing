{
  "nbformat": 4,
  "nbformat_minor": 0,
  "metadata": {
    "colab": {
      "provenance": []
    },
    "kernelspec": {
      "name": "python3",
      "display_name": "Python 3"
    },
    "language_info": {
      "name": "python"
    }
  },
  "cells": [
    {
      "cell_type": "markdown",
      "source": [
        "Mount Google Drive."
      ],
      "metadata": {
        "id": "XR0w-REN2078"
      }
    },
    {
      "cell_type": "code",
      "source": [
        "from google.colab import drive\n",
        "drive.mount('/content/drive/')"
      ],
      "metadata": {
        "colab": {
          "base_uri": "https://localhost:8080/"
        },
        "id": "9PsKjFqbuDVr",
        "outputId": "0cf95cc8-bf15-40f1-e535-65acadd5831c"
      },
      "execution_count": null,
      "outputs": [
        {
          "output_type": "stream",
          "name": "stdout",
          "text": [
            "Mounted at /content/drive/\n"
          ]
        }
      ]
    },
    {
      "cell_type": "markdown",
      "source": [
        "Remove previous clones of the conjecturing repository."
      ],
      "metadata": {
        "id": "-AN0tG-e3Bqx"
      }
    },
    {
      "cell_type": "code",
      "source": [
        "!rm -rf conjecturing/"
      ],
      "metadata": {
        "id": "ai8_5CfmuM2V"
      },
      "execution_count": null,
      "outputs": []
    },
    {
      "cell_type": "markdown",
      "source": [
        "Clone the conjecturing repository."
      ],
      "metadata": {
        "id": "U6ygVJXi3Fph"
      }
    },
    {
      "cell_type": "code",
      "execution_count": null,
      "metadata": {
        "colab": {
          "base_uri": "https://localhost:8080/"
        },
        "id": "JhZ9xv-dsLmz",
        "outputId": "f527124b-d633-48ce-aab0-1022896dd827"
      },
      "outputs": [
        {
          "output_type": "stream",
          "name": "stdout",
          "text": [
            "Cloning into 'conjecturing'...\n",
            "remote: Enumerating objects: 1637, done.\u001b[K\n",
            "remote: Counting objects: 100% (193/193), done.\u001b[K\n",
            "remote: Compressing objects: 100% (107/107), done.\u001b[K\n",
            "remote: Total 1637 (delta 94), reused 182 (delta 84), pack-reused 1444 (from 1)\u001b[K\n",
            "Receiving objects: 100% (1637/1637), 357.49 MiB | 32.50 MiB/s, done.\n",
            "Resolving deltas: 100% (882/882), done.\n",
            "Updating files: 100% (85/85), done.\n"
          ]
        }
      ],
      "source": [
        "!git clone https://github.com/jpbrooks/conjecturing.git"
      ]
    },
    {
      "cell_type": "markdown",
      "source": [
        "Compile the C code."
      ],
      "metadata": {
        "id": "kgP3d3Ka3MuD"
      }
    },
    {
      "cell_type": "code",
      "source": [
        "%cd /content/conjecturing/c/\n",
        "!make clean && make"
      ],
      "metadata": {
        "colab": {
          "base_uri": "https://localhost:8080/"
        },
        "id": "1Es6MM2v3Uxg",
        "outputId": "d1b17ca5-a3ea-4f7b-d91b-93cf9ed1cdd9"
      },
      "execution_count": null,
      "outputs": [
        {
          "output_type": "stream",
          "name": "stdout",
          "text": [
            "/content/conjecturing/c\n",
            "rm -rf build\n",
            "rm -rf dist\n",
            "mkdir -p build\n",
            "gcc  -O4 -Wall expressions.c bintrees.c printing.c printing_pb.c -o build/expressions -lm\n"
          ]
        }
      ]
    },
    {
      "cell_type": "markdown",
      "source": [
        "Copy the conjecturing files to Google Drive."
      ],
      "metadata": {
        "id": "xJXP6fBo4YBW"
      }
    },
    {
      "cell_type": "code",
      "source": [
        "%cd /content/\n",
        "!cp -r conjecturing /content/drive/MyDrive/"
      ],
      "metadata": {
        "colab": {
          "base_uri": "https://localhost:8080/"
        },
        "id": "FlGOVjTuwi6L",
        "outputId": "f2a83297-b115-44b2-c60c-b1da4b7074b4"
      },
      "execution_count": null,
      "outputs": [
        {
          "output_type": "stream",
          "name": "stdout",
          "text": [
            "/content\n"
          ]
        }
      ]
    }
  ]
}