{
  "nbformat": 4,
  "nbformat_minor": 0,
  "metadata": {
    "colab": {
      "provenance": []
    },
    "kernelspec": {
      "name": "python3",
      "display_name": "Python 3"
    },
    "language_info": {
      "name": "python"
    }
  },
  "cells": [
    {
      "cell_type": "markdown",
      "source": [
        "Mount Google Drive."
      ],
      "metadata": {
        "id": "XR0w-REN2078"
      }
    },
    {
      "cell_type": "code",
      "source": [
        "from google.colab import drive\n",
        "drive.mount('/content/drive/')"
      ],
      "metadata": {
        "id": "9PsKjFqbuDVr"
      },
      "execution_count": null,
      "outputs": []
    },
    {
      "cell_type": "markdown",
      "source": [
        "Remove previous clones of the conjecturing repository."
      ],
      "metadata": {
        "id": "-AN0tG-e3Bqx"
      }
    },
    {
      "cell_type": "code",
      "source": [
        "!rm -rf conjecturing/"
      ],
      "metadata": {
        "id": "ai8_5CfmuM2V"
      },
      "execution_count": null,
      "outputs": []
    },
    {
      "cell_type": "markdown",
      "source": [
        "Clone the conjecturing repository."
      ],
      "metadata": {
        "id": "U6ygVJXi3Fph"
      }
    },
    {
      "cell_type": "code",
      "execution_count": null,
      "metadata": {
        "id": "JhZ9xv-dsLmz"
      },
      "outputs": [],
      "source": [
        "!git clone https://github.com/jpbrooks/conjecturing.git"
      ]
    },
    {
      "cell_type": "markdown",
      "source": [
        "Compile the C code."
      ],
      "metadata": {
        "id": "kgP3d3Ka3MuD"
      }
    },
    {
      "cell_type": "code",
      "source": [
        "%cd /content/conjecturing/c/\n",
        "!make clean && make"
      ],
      "metadata": {
        "id": "1Es6MM2v3Uxg"
      },
      "execution_count": null,
      "outputs": []
    },
    {
      "cell_type": "markdown",
      "source": [
        "Copy the conjecturing files to Google Drive."
      ],
      "metadata": {
        "id": "xJXP6fBo4YBW"
      }
    },
    {
      "cell_type": "code",
      "source": [
        "%cd /content/\n",
        "!cp -r conjecturing /content/drive/MyDrive/"
      ],
      "metadata": {
        "id": "FlGOVjTuwi6L"
      },
      "execution_count": null,
      "outputs": []
    }
  ]
}