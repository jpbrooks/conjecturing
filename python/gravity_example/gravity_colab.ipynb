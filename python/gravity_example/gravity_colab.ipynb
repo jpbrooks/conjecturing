{
  "nbformat": 4,
  "nbformat_minor": 0,
  "metadata": {
    "colab": {
      "provenance": []
    },
    "kernelspec": {
      "name": "python3",
      "display_name": "Python 3"
    },
    "language_info": {
      "name": "python"
    }
  },
  "cells": [
    {
      "cell_type": "markdown",
      "source": [
        "Mount Google Drive."
      ],
      "metadata": {
        "id": "YZx6Iz_k1wly"
      }
    },
    {
      "cell_type": "code",
      "execution_count": null,
      "metadata": {
        "id": "_3pGop4vyRk3"
      },
      "outputs": [],
      "source": [
        "from google.colab import drive\n",
        "drive.mount('/content/drive')"
      ]
    },
    {
      "cell_type": "markdown",
      "source": [
        "Set the path for this notebook, the input data, and the output files.  "
      ],
      "metadata": {
        "id": "QR9U1FGL2Sff"
      }
    },
    {
      "cell_type": "code",
      "source": [
        "notebook_path = \"/content/drive/MyDrive/gravity/\"\n",
        "input_path = \"/content/drive/MyDrive/gravity/\"\n",
        "output_path = \"/content/drive/MyDrive/gravity/\""
      ],
      "metadata": {
        "id": "it0TesNt2Km8"
      },
      "execution_count": null,
      "outputs": []
    },
    {
      "cell_type": "markdown",
      "source": [
        "Copy the expressions and conjecturing.py file over."
      ],
      "metadata": {
        "id": "eoDASsHlyWQt"
      }
    },
    {
      "cell_type": "code",
      "source": [
        "!cp /content/drive/MyDrive/conjecturing/c/build/expressions {notebook_path}\n",
        "!cp /content/drive/MyDrive/conjecturing/python/conjecturing.py {notebook_path}\n",
        "!chmod +x {notebook_path}/expressions"
      ],
      "metadata": {
        "id": "TyOEbUPh0sxX"
      },
      "execution_count": null,
      "outputs": []
    },
    {
      "cell_type": "markdown",
      "source": [
        "Import libraries, specify settings, and prepare data."
      ],
      "metadata": {
        "id": "SjSuxxvp5Mw6"
      }
    },
    {
      "cell_type": "code",
      "source": [
        "import pandas as pd\n",
        "import numpy as np\n",
        "import sys\n",
        "from sklearn.model_selection import train_test_split\n",
        "import sys\n",
        "sys.path.insert(0, notebook_path)\n",
        "from conjecturing import *\n",
        "\n",
        "# Preprocessing:\n",
        "# 1. Ensure that column names are strings and have no special characters other\n",
        "#    than \"_\".\n",
        "# 2. No column name (other than the target) should have \"TARGET\" in\n",
        "#    the name.\n",
        "# 3. Define inv_file, prop_file, my_data, invariant_names,\n",
        "#    categorical_names, target, num_train, my_skips, my_time,\n",
        "#    complexity, use_operators.  Optionally, define debug and verbose.\n",
        "\n",
        "inv_fname = \"2025_07_10_inv.txt\"\n",
        "prop_fname = \"2025_07_10_prop.txt\"\n",
        "\n",
        "my_time = 5\n",
        "complexity = 10\n",
        "num_train = 900\n",
        "my_skips = 0.0 # percentage of examples with missing data before ignoring a conjecture\n",
        "use_operators =  [ '-1', '+1', '*2', '/2', '^2', '-()', '1/',\n",
        "                  'sqrt', 'ln', 'log10', 'exp', '10^', 'ceil',\n",
        "                  'floor', 'abs', '+', '*', 'max', 'min', '-', '/', '^']\n",
        "#use_operators =  [ '-1', '+1', '*2']\n",
        "\n",
        "print(\"Reading data! \\n\")\n",
        "sys.stdout.flush()\n",
        "\n",
        "gravity_df = pd.read_csv(input_path + 'gravityTrainData.csv',\n",
        "                         header=None)\n",
        "\n",
        "print(\"Done reading data! \\n\")\n",
        "gravity_df.info()\n",
        "\n",
        "# convert column names to strings\n",
        "gravity_df.columns = [\"F\", \"m1\", \"m2\", \"r\"]\n",
        "\n",
        "invariant_names = ['F','m1','m2','r']\n",
        "categorical_names = []\n",
        "\n",
        "target = 'F'\n",
        "\n",
        "my_data = gravity_df"
      ],
      "metadata": {
        "id": "IU1mHYfy5TuT"
      },
      "execution_count": null,
      "outputs": []
    },
    {
      "cell_type": "markdown",
      "source": [
        "You probably do not need to edit the code from here to the end of the file.\n",
        "\n",
        "Rename the target column TARGET.  Convert categorical variables to dummies.  One dummy for each binary variable and one dummy for each level for variables with more than two levels."
      ],
      "metadata": {
        "id": "usgZ9EA35bO-"
      }
    },
    {
      "cell_type": "code",
      "source": [
        "if target in categorical_names:\n",
        "    categorical_names[categorical_names.index(target)] = \"TARGET\"\n",
        "else:\n",
        "    invariant_names[invariant_names.index(target)] = \"TARGET\"\n",
        "\n",
        "my_data = my_data.rename(columns={target: \"TARGET\"})\n",
        "my_data = my_data[invariant_names + categorical_names]\n",
        "\n",
        "(my_df, property_names, target_property_names) = create_dummies(my_data,\n",
        "                                                           categorical_names,\n",
        "                                                           nan_is_level=True)"
      ],
      "metadata": {
        "id": "fOvGNfiy1Q-P"
      },
      "execution_count": null,
      "outputs": []
    },
    {
      "cell_type": "markdown",
      "source": [
        "Define class, invariants, properties, and target properties (if applicable)."
      ],
      "metadata": {
        "id": "ROcYRN705h7C"
      }
    },
    {
      "cell_type": "code",
      "source": [
        "Example = create_example_class(my_df,\n",
        "                     invariant_names,\n",
        "                     property_names,\n",
        "                     categorical_names,\n",
        "                     target_property_names)"
      ],
      "metadata": {
        "id": "F--Jdvmu5i2Z"
      },
      "execution_count": null,
      "outputs": []
    },
    {
      "cell_type": "markdown",
      "source": [
        "Split into training and testing data."
      ],
      "metadata": {
        "id": "zyjpeH1i5tAv"
      }
    },
    {
      "cell_type": "code",
      "source": [
        "if \"TARGET\" in categorical_names:\n",
        "    X_train, X_test = train_test_split(\n",
        "        my_df.index,\n",
        "        stratify=my_data[\"TARGET\"],  # stratify on target levels\n",
        "        train_size=num_train,\n",
        "        random_state=12345\n",
        "    )\n",
        "else:\n",
        "    X_train, X_test = train_test_split(\n",
        "        my_df.index,\n",
        "        train_size=num_train,\n",
        "        random_state=12345\n",
        "    )"
      ],
      "metadata": {
        "id": "9EBvH6bJ7e02"
      },
      "execution_count": null,
      "outputs": []
    },
    {
      "cell_type": "markdown",
      "source": [
        "Create examples for conjecturing."
      ],
      "metadata": {
        "id": "4qEghOav5xvq"
      }
    },
    {
      "cell_type": "code",
      "source": [
        "train_examples = [Example(i, my_df) for i in X_train]\n",
        "test_examples = [Example(i, my_df) for i in X_test]"
      ],
      "metadata": {
        "id": "kWNjWris5xKr"
      },
      "execution_count": null,
      "outputs": []
    },
    {
      "cell_type": "markdown",
      "source": [
        "Get lists of invariant and property functions."
      ],
      "metadata": {
        "id": "96I8UxpO52-S"
      }
    },
    {
      "cell_type": "code",
      "source": [
        "(invariants, properties, target_properties) = (\n",
        "        get_invariants_properties(Example,\n",
        "                                  invariant_names,\n",
        "                                  property_names,\n",
        "                                  categorical_names,\n",
        "                                  target_property_names)\n",
        "                                               )\n"
      ],
      "metadata": {
        "id": "17eIqTnU52iS"
      },
      "execution_count": null,
      "outputs": []
    },
    {
      "cell_type": "markdown",
      "source": [
        "Invariant conjecturing - upper and lower bounds."
      ],
      "metadata": {
        "id": "x5pEYlkG6LvD"
      }
    },
    {
      "cell_type": "code",
      "source": [
        "inv_file = open(output_path + inv_fname, \"w\")\n",
        "inv_conjectures = invariant_conjecturing(Example,\n",
        "                                         train_examples,\n",
        "                                         categorical_names,\n",
        "                                         target_property_names,\n",
        "                                         invariants,\n",
        "                                         use_operators,\n",
        "                                         complexity,\n",
        "                                         my_time,\n",
        "                                         my_skips,\n",
        "                                         inv_file,\n",
        "                                         notebook_path=notebook_path)\n",
        "inv_file.close()"
      ],
      "metadata": {
        "id": "ufVHU4ML55DH"
      },
      "execution_count": null,
      "outputs": []
    },
    {
      "cell_type": "markdown",
      "source": [
        "Property conjecturing - sufficient conditions for a categorical target values.  For a binary target, get sufficient conditions for the positive class and necessary conditions for the negative class."
      ],
      "metadata": {
        "id": "jKW6bpo16Ros"
      }
    },
    {
      "cell_type": "code",
      "source": [
        "if \"TARGET\" in categorical_names:\n",
        "    prop_file = open(output_path + prop_fname, \"w\")\n",
        "    (prop_conjs, conditions) = (\n",
        "        property_conjecturing(Example,\n",
        "                              properties,\n",
        "                              inv_conjectures,\n",
        "                              categorical_names,\n",
        "                              target_property_names,\n",
        "                              train_examples,\n",
        "                              my_time,\n",
        "                              my_skips,\n",
        "                              prop_file,\n",
        "                              notebook_path=notebook_path)\n",
        "    )\n",
        "    prop_file.close()"
      ],
      "metadata": {
        "id": "BEGMHiJM6RIy"
      },
      "execution_count": null,
      "outputs": []
    },
    {
      "cell_type": "markdown",
      "source": [
        "Apply property conjectures to train and test data if target is categorical."
      ],
      "metadata": {
        "id": "8pmAPhil6ZJs"
      }
    },
    {
      "cell_type": "code",
      "source": [
        "if \"TARGET\" in categorical_names:\n",
        "    (X_train_df, X_test_df, y_train_df, y_test_df) =  (\n",
        "            apply_property_conjectures(my_data,\n",
        "                                       my_df,\n",
        "                                       X_train,\n",
        "                                       X_test,\n",
        "                                       property_names,\n",
        "                                       invariant_names,\n",
        "                                       categorical_names,\n",
        "                                       target_property_names,\n",
        "                                       conditions,\n",
        "                                       train_examples,\n",
        "                                       test_examples)\n",
        "            )\n",
        "\n"
      ],
      "metadata": {
        "id": "9Xo3uZfK6YaJ"
      },
      "execution_count": null,
      "outputs": []
    },
    {
      "cell_type": "markdown",
      "source": [
        "If the target is categorical, calculate support, precision, recall, lift, and F1 of each conjecture on the test data.  The F1 score is only for the class for the sufficient condition it was derived for."
      ],
      "metadata": {
        "id": "aCpR4lAV6esg"
      }
    },
    {
      "cell_type": "code",
      "source": [
        "if \"TARGET\" in categorical_names:\n",
        "    results_df = evaluate_property_conjectures(categorical_names,\n",
        "                                  target_property_names,\n",
        "                                  Example,\n",
        "                                  conditions,\n",
        "                                  test_examples,\n",
        "                                  y_test_df)\n",
        "\n",
        "    print(results_df)"
      ],
      "metadata": {
        "id": "ZrQXlkqk6eRq"
      },
      "execution_count": null,
      "outputs": []
    },
    {
      "cell_type": "markdown",
      "source": [
        "If the target is an invariant/numerical, calculate the mean aboslute error of each conjecture on the test data."
      ],
      "metadata": {
        "id": "5v1yni-QOa-V"
      }
    },
    {
      "cell_type": "code",
      "source": [
        "if \"TARGET\" in invariant_names:\n",
        "    results_df = evaluate_invariant_conjectures(Example,\n",
        "                                              inv_conjectures,\n",
        "                                              test_examples)\n",
        "print(results_df)"
      ],
      "metadata": {
        "id": "uSCs23u1H1Cf"
      },
      "execution_count": null,
      "outputs": []
    },
    {
      "cell_type": "code",
      "source": [],
      "metadata": {
        "id": "aJlLpbDDKuUC"
      },
      "execution_count": null,
      "outputs": []
    }
  ]
}