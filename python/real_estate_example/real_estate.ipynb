{
  "nbformat": 4,
  "nbformat_minor": 0,
  "metadata": {
    "colab": {
      "provenance": []
    },
    "kernelspec": {
      "name": "python3",
      "display_name": "Python 3"
    },
    "language_info": {
      "name": "python"
    }
  },
  "cells": [
    {
      "cell_type": "markdown",
      "source": [
        "Mount Google Drive."
      ],
      "metadata": {
        "id": "YZx6Iz_k1wly"
      }
    },
    {
      "cell_type": "code",
      "execution_count": null,
      "metadata": {
        "id": "_3pGop4vyRk3"
      },
      "outputs": [],
      "source": [
        "from google.colab import drive\n",
        "drive.mount('/content/drive')"
      ]
    },
    {
      "cell_type": "markdown",
      "source": [
        "Set the path for this notebook, the input data, and the output files.  "
      ],
      "metadata": {
        "id": "QR9U1FGL2Sff"
      }
    },
    {
      "cell_type": "code",
      "source": [
        "notebook_path = \"/content/drive/MyDrive/real_estate/\"\n",
        "input_path = \"/content/drive/MyDrive/real_estate/\"\n",
        "output_path = \"/content/drive/MyDrive/real_estate/\""
      ],
      "metadata": {
        "id": "it0TesNt2Km8"
      },
      "execution_count": null,
      "outputs": []
    },
    {
      "cell_type": "markdown",
      "source": [
        "Copy the expressions and conjecturing.py file over."
      ],
      "metadata": {
        "id": "eoDASsHlyWQt"
      }
    },
    {
      "cell_type": "code",
      "source": [
        "!cp /content/drive/MyDrive/conjecturing/c/build/expressions {notebook_path}\n",
        "!cp /content/drive/MyDrive/conjecturing/python/conjecturing.py {notebook_path}\n",
        "!chmod +x {my_path}/expressions"
      ],
      "metadata": {
        "id": "TyOEbUPh0sxX"
      },
      "execution_count": null,
      "outputs": []
    },
    {
      "cell_type": "markdown",
      "source": [
        "Import libraries, specify settings, and prepare data."
      ],
      "metadata": {
        "id": "SjSuxxvp5Mw6"
      }
    },
    {
      "cell_type": "code",
      "source": [
        "import pandas as pd\n",
        "import numpy as np\n",
        "import sys\n",
        "from conjecturing import *\n",
        "from sklearn.model_selection import train_test_split\n",
        "import sys\n",
        "sys.path.insert(0, notebook_path)\n",
        "\n",
        "# Preprocessing:\n",
        "# 1. Ensure that column names have no special characters other than \"_\".\n",
        "# 2. No column name (other than the target) should have \"TARGET\" in\n",
        "#    the name.\n",
        "# 3. Define inv_file, prop_file, my_data, invariant_names,\n",
        "#    categorical_names, target, num_train, my_skips, my_time,\n",
        "#    complexity, use_operators.  Optionally, define debug and verbose.\n",
        "\n",
        "inv_fname = \"2025_07_10_inv.txt\"\n",
        "prop_fname = \"2025_07_10_prop.txt\"\n",
        "\n",
        "my_time = 5\n",
        "complexity = 10\n",
        "num_train = 10\n",
        "my_skips = 0.0 # percentage of examples with missing data before ignoring a conjecture\n",
        "use_operators =  [ '-1', '+1', '*2', '/2', '^2', '-()', '1/',\n",
        "                  'sqrt', 'ln', 'log10', 'exp', '10^', 'ceil',\n",
        "                  'floor', 'abs', '+', '*', 'max', 'min', '-', '/', '^']\n",
        "#use_operators =  [ '-1', '+1', '*2']\n",
        "\n",
        "print(\"Reading data! \\n\")\n",
        "sys.stdout.flush()\n",
        "\n",
        "house_df = pd.read_csv(input_path + 'trainData.csv')\n",
        "\n",
        "print(\"Done reading data! \\n\")\n",
        "\n",
        "house_df.columns = house_df.columns.str.replace(\"\\\\.\", \"_\", regex=True)\n",
        "\n",
        "house_df[\"cutoff\"] = 300000\n",
        "\n",
        "invariant_names = ['BEDS',\n",
        "                   'BATHS',\n",
        "                   'SQUARE_FEET',\n",
        "                   'LOT_SIZE',\n",
        "                   'YEAR_BUILT',\n",
        "                   'DAYS_ON_MARKET',\n",
        "                   'HOA_MONTH',\n",
        "                   'X__SQUARE_FEET',\n",
        "                   'LATITUDE',\n",
        "                   'LONGITUDE',\n",
        "                   'cutoff'\n",
        "                   ]\n",
        "categorical_names = ['TARGET',\n",
        "                     'PROPERTY_TYPEMobile_Manufactured_Home',\n",
        "                     'PROPERTY_TYPESingle_Family_Residential',\n",
        "                     'PROPERTY_TYPETownhouse',\n",
        "                     'PROPERTY_TYPEMulti_Family__2_4_Unit_',\n",
        "                     'PROPERTY_TYPEMulti_Family__5__Unit_',\n",
        "                     'PROPERTY_TYPEOther'\n",
        "                     ]\n",
        "\n",
        "target = 'TARGET'\n",
        "\n",
        "my_data = house_df"
      ],
      "metadata": {
        "id": "IU1mHYfy5TuT"
      },
      "execution_count": null,
      "outputs": []
    },
    {
      "cell_type": "markdown",
      "source": [
        "You probably do not need to edit the code from here to the end of the file.\n",
        "\n",
        "Rename the target column TARGET.  Convert categorical variables to dummies.  One dummy for each binary variable and one dummy for each level for variables with more than two levels."
      ],
      "metadata": {
        "id": "usgZ9EA35bO-"
      }
    },
    {
      "cell_type": "code",
      "source": [
        "if target in categorical_names:\n",
        "    categorical_names[categorical_names.index(target)] = \"TARGET\"\n",
        "else:\n",
        "    invariant_names[invariant_names.index(target)] = \"TARGET\"\n",
        "\n",
        "my_data = my_data.rename(columns={target: \"TARGET\"})\n",
        "my_data = my_data[invariant_names + categorical_names]\n",
        "\n",
        "(my_df, property_names, target_property_names) = create_dummies(my_data,\n",
        "                                                           categorical_names,\n",
        "                                                           nan_is_level=True)"
      ],
      "metadata": {
        "id": "fOvGNfiy1Q-P"
      },
      "execution_count": null,
      "outputs": []
    },
    {
      "cell_type": "markdown",
      "source": [
        "Define class, invariants, properties, and target properties (if applicable)."
      ],
      "metadata": {
        "id": "ROcYRN705h7C"
      }
    },
    {
      "cell_type": "code",
      "source": [
        "Example = create_example_class(my_df,\n",
        "                     invariant_names,\n",
        "                     property_names,\n",
        "                     categorical_names,\n",
        "                     target_property_names)"
      ],
      "metadata": {
        "id": "F--Jdvmu5i2Z"
      },
      "execution_count": null,
      "outputs": []
    },
    {
      "cell_type": "markdown",
      "source": [
        "Split into training and testing data."
      ],
      "metadata": {
        "id": "zyjpeH1i5tAv"
      }
    },
    {
      "cell_type": "code",
      "source": [
        "if \"TARGET\" in categorical_names:\n",
        "    X_train, X_test = train_test_split(\n",
        "        my_df.index,\n",
        "        stratify=my_data[\"TARGET\"],  # stratify on target levels\n",
        "        train_size=num_train,\n",
        "        random_state=12345\n",
        "    )\n",
        "else:\n",
        "    X_train, X_test = train_test_split(\n",
        "        my_df.index,\n",
        "        train_size=num_train,\n",
        "        random_state=12345\n",
        "    )"
      ],
      "metadata": {
        "id": "9EBvH6bJ7e02"
      },
      "execution_count": null,
      "outputs": []
    },
    {
      "cell_type": "markdown",
      "source": [
        "Create examples for conjecturing."
      ],
      "metadata": {
        "id": "4qEghOav5xvq"
      }
    },
    {
      "cell_type": "code",
      "source": [
        "train_examples = [Example(i, my_df) for i in X_train]\n",
        "test_examples = [Example(i, my_df) for i in X_test]"
      ],
      "metadata": {
        "id": "kWNjWris5xKr"
      },
      "execution_count": null,
      "outputs": []
    },
    {
      "cell_type": "markdown",
      "source": [
        "Get lists of invariant and property functions."
      ],
      "metadata": {
        "id": "96I8UxpO52-S"
      }
    },
    {
      "cell_type": "code",
      "source": [
        "(invariants, properties, target_properties) = (\n",
        "        get_invariants_properties(Example,\n",
        "                                  invariant_names,\n",
        "                                  property_names,\n",
        "                                  categorical_names,\n",
        "                                  target_property_names)\n",
        "                                               )\n",
        "\n",
        "#print(properties)\n",
        "#for j in train_examples:\n",
        "#    print(properties[0].__name__)\n",
        "#    print(properties[0](j))"
      ],
      "metadata": {
        "id": "17eIqTnU52iS"
      },
      "execution_count": null,
      "outputs": []
    },
    {
      "cell_type": "markdown",
      "source": [
        "Invariant conjecturing - upper and lower bounds."
      ],
      "metadata": {
        "id": "x5pEYlkG6LvD"
      }
    },
    {
      "cell_type": "code",
      "source": [
        "inv_file = open(output_path + inv_fname, \"w\")\n",
        "inv_conjectures = invariant_conjecturing(Example,\n",
        "                                         train_examples,\n",
        "                                         categorical_names,\n",
        "                                         target_property_names,\n",
        "                                         invariants,\n",
        "                                         use_operators,\n",
        "                                         complexity,\n",
        "                                         my_time,\n",
        "                                         my_skips,\n",
        "                                         inv_file,\n",
        "                                         notebook_path=notebook_path)\n",
        "inv_file.close()\n",
        "\n",
        "## Evaluate a conjecture\n",
        "#for j in train_examples:\n",
        "#    print(inv_conjectures[3].__name__)\n",
        "#    print(j.SQUARE_FEET(), inv_conjectures[3].evaluate(j, returnBoundValue=True))\n",
        "#   # print(house_above_properties[0].evaluate(j, returnBoundValue=True), j.number_of_square_feet())"
      ],
      "metadata": {
        "id": "ufVHU4ML55DH"
      },
      "execution_count": null,
      "outputs": []
    },
    {
      "cell_type": "markdown",
      "source": [
        "Property conjecturing - sufficient conditions for a categorical target values.  For a binary target, get sufficient conditions for the positive class and necessary conditions for the negative class."
      ],
      "metadata": {
        "id": "jKW6bpo16Ros"
      }
    },
    {
      "cell_type": "code",
      "source": [
        "if \"TARGET\" in categorical_names:\n",
        "    prop_file = open(output_path + prop_fname, \"w\")\n",
        "    (prop_conjs, conditions) = (\n",
        "        property_conjecturing(Example,\n",
        "                              properties,\n",
        "                              inv_conjectures,\n",
        "                              categorical_names,\n",
        "                              target_property_names,\n",
        "                              train_examples,\n",
        "                              my_time,\n",
        "                              my_skips,\n",
        "                              prop_file,\n",
        "                              notebook_path=notebook_path)\n",
        "    )\n",
        "    prop_file.close()\n",
        "\n",
        "#print(\"conditions\")\n",
        "#print(conditions[\"TARGET_0\"][0].__name__)\n",
        "#for j in train_examples:\n",
        "#    print(j.SQUARE_FEET(), conditions[\"TARGET_0\"][0](j))\n",
        "#print(conditions[\"necessary\"][0].__name__)\n",
        "#for j in train_examples:\n",
        "#    print(j.SQUARE_FEET(), conditions[\"necessary\"][0](j))\n",
        "\n",
        "\n",
        "#for j in train_examples:\n",
        "#    print(prop_conjs[0].__name__)\n",
        "#    print(j.BEDS(), j.SQUARE_FEET(), prop_conjs[0].evaluate(j))\n",
        "\n"
      ],
      "metadata": {
        "id": "BEGMHiJM6RIy"
      },
      "execution_count": null,
      "outputs": []
    },
    {
      "cell_type": "markdown",
      "source": [
        "Apply property conjectures to train and test data if target is categorical."
      ],
      "metadata": {
        "id": "8pmAPhil6ZJs"
      }
    },
    {
      "cell_type": "code",
      "source": [
        "if \"TARGET\" in categorical_names:\n",
        "    (X_train_df, X_test_df, y_train_df, y_test_df) =  (\n",
        "            apply_property_conjectures(my_data,\n",
        "                                       my_df,\n",
        "                                       X_train,\n",
        "                                       X_test,\n",
        "                                       property_names,\n",
        "                                       invariant_names,\n",
        "                                       categorical_names,\n",
        "                                       target_property_names,\n",
        "                                       conditions,\n",
        "                                       train_examples,\n",
        "                                       test_examples)\n",
        "            )\n",
        "\n"
      ],
      "metadata": {
        "id": "9Xo3uZfK6YaJ"
      },
      "execution_count": null,
      "outputs": []
    },
    {
      "cell_type": "markdown",
      "source": [
        "Calculate support, precision, recall, lift, and F1.  The F1 score is only for the class for the sufficient condition it was derived for."
      ],
      "metadata": {
        "id": "aCpR4lAV6esg"
      }
    },
    {
      "cell_type": "code",
      "source": [
        "if \"TARGET\" in categorical_names:\n",
        "    results_df = evaluate_property_conjectures(categorical_names,\n",
        "                                  target_property_names,\n",
        "                                  Example,\n",
        "                                  conditions,\n",
        "                                  test_examples,\n",
        "                                  y_test_df)\n",
        "\n",
        "    print(results_df)"
      ],
      "metadata": {
        "id": "ZrQXlkqk6eRq"
      },
      "execution_count": null,
      "outputs": []
    },
    {
      "cell_type": "code",
      "source": [],
      "metadata": {
        "id": "uSCs23u1H1Cf"
      },
      "execution_count": null,
      "outputs": []
    }
  ]
}