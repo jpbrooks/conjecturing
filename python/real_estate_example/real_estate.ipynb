{
  "nbformat": 4,
  "nbformat_minor": 0,
  "metadata": {
    "colab": {
      "provenance": []
    },
    "kernelspec": {
      "name": "python3",
      "display_name": "Python 3"
    },
    "language_info": {
      "name": "python"
    }
  },
  "cells": [
    {
      "cell_type": "markdown",
      "source": [
        "Mount Google Drive."
      ],
      "metadata": {
        "id": "YZx6Iz_k1wly"
      }
    },
    {
      "cell_type": "code",
      "execution_count": 92,
      "metadata": {
        "colab": {
          "base_uri": "https://localhost:8080/"
        },
        "id": "_3pGop4vyRk3",
        "outputId": "6d9f4552-bfaf-48d2-d892-5946654ac2ad"
      },
      "outputs": [
        {
          "output_type": "stream",
          "name": "stdout",
          "text": [
            "Drive already mounted at /content/drive; to attempt to forcibly remount, call drive.mount(\"/content/drive\", force_remount=True).\n"
          ]
        }
      ],
      "source": [
        "from google.colab import drive\n",
        "drive.mount('/content/drive')"
      ]
    },
    {
      "cell_type": "markdown",
      "source": [
        "Set the path for the output files and data."
      ],
      "metadata": {
        "id": "QR9U1FGL2Sff"
      }
    },
    {
      "cell_type": "code",
      "source": [
        "my_path = \"/content/drive/MyDrive/StudentsResearch/SamuelPaulGyamfi/conjecturing/real_estate/\""
      ],
      "metadata": {
        "id": "it0TesNt2Km8"
      },
      "execution_count": 93,
      "outputs": []
    },
    {
      "cell_type": "markdown",
      "source": [
        "Copy the expressions and conjecturing.py file over."
      ],
      "metadata": {
        "id": "eoDASsHlyWQt"
      }
    },
    {
      "cell_type": "code",
      "source": [
        "!cp /content/drive/MyDrive/conjecturing/c/build/expressions {my_path}\n",
        "#!cp /content/drive/MyDrive/conjecturing/python/conjecturing.py {my_path}\n",
        "!chmod +x {my_path}/expressions"
      ],
      "metadata": {
        "id": "TyOEbUPh0sxX"
      },
      "execution_count": 94,
      "outputs": []
    },
    {
      "cell_type": "markdown",
      "source": [
        "Add the path to the system path so that Python can find the conjecturing executable (expressions)"
      ],
      "metadata": {
        "id": "rO76xmmU5EDN"
      }
    },
    {
      "cell_type": "code",
      "source": [
        "import sys\n",
        "sys.path.insert(0, my_path)"
      ],
      "metadata": {
        "id": "rOQfSAn112x9"
      },
      "execution_count": 95,
      "outputs": []
    },
    {
      "cell_type": "markdown",
      "source": [
        "Import libraries, specify settings, and prepare data."
      ],
      "metadata": {
        "id": "SjSuxxvp5Mw6"
      }
    },
    {
      "cell_type": "code",
      "source": [
        "import pandas as pd\n",
        "import numpy as np\n",
        "import sys\n",
        "from conjecturing import *\n",
        "from sklearn.model_selection import train_test_split\n",
        "\n",
        "# Preprocessing:\n",
        "# 1. Ensure that column names have no special characters other than \"_\".\n",
        "# 2. No column name (other than the target) should have \"TARGET\" in\n",
        "#    the name.\n",
        "# 3. Define inv_file, prop_file, my_data, invariant_names,\n",
        "#    categorical_names, target, num_train, my_skips, my_time,\n",
        "#    complexity, use_operators.  Optionally, define debug and verbose.\n",
        "# 4. Rename the target column TARGET in my_data.\n",
        "\n",
        "inv_fname = \"2025_07_10_inv.txt\"\n",
        "prop_fname = \"2025_07_10_prop.txt\"\n",
        "\n",
        "my_time = 5\n",
        "complexity = 10\n",
        "num_train = 10\n",
        "my_skips = 0.0 # percentage of examples with missing data before ignoring a conjecture\n",
        "use_operators =  [ '-1', '+1', '*2', '/2', '^2', '-()', '1/',\n",
        "                  'sqrt', 'ln', 'log10', 'exp', '10^', 'ceil',\n",
        "                  'floor', 'abs', '+', '*', 'max', 'min', '-', '/', '^']\n",
        "#use_operators =  [ '-1', '+1', '*2']\n",
        "\n",
        "print(\"Reading data! \\n\")\n",
        "sys.stdout.flush()\n",
        "\n",
        "house_df = pd.read_csv(my_path + 'trainData.csv')\n",
        "\n",
        "print(\"Done reading data! \\n\")\n",
        "\n",
        "house_df.columns = house_df.columns.str.replace(\"\\\\.\", \"_\", regex=True)\n",
        "\n",
        "house_df[\"cutoff\"] = 300000\n",
        "\n",
        "invariant_names = ['BEDS',\n",
        "                   'BATHS',\n",
        "                   'SQUARE_FEET',\n",
        "                   'LOT_SIZE',\n",
        "                   'YEAR_BUILT',\n",
        "                   'DAYS_ON_MARKET',\n",
        "                   'HOA_MONTH',\n",
        "                   'X__SQUARE_FEET',\n",
        "                   'LATITUDE',\n",
        "                   'LONGITUDE',\n",
        "                   'cutoff'\n",
        "                   ]\n",
        "categorical_names = ['TARGET',\n",
        "                     'PROPERTY_TYPEMobile_Manufactured_Home',\n",
        "                     'PROPERTY_TYPESingle_Family_Residential',\n",
        "                     'PROPERTY_TYPETownhouse',\n",
        "                     'PROPERTY_TYPEMulti_Family__2_4_Unit_',\n",
        "                     'PROPERTY_TYPEMulti_Family__5__Unit_',\n",
        "                     'PROPERTY_TYPEOther'\n",
        "                     ]\n",
        "\n",
        "target = 'TARGET'\n",
        "\n",
        "my_data = house_df\n",
        "\n",
        "\n",
        "if target in categorical_names:\n",
        "    categorical_names[categorical_names.index(target)] = \"TARGET\"\n",
        "else:\n",
        "    invariant_names[invariant_names.index(target)] = \"TARGET\"\n",
        "\n",
        "my_data = my_data.rename(columns={target: \"TARGET\"})\n",
        "my_data = my_data[invariant_names + categorical_names]"
      ],
      "metadata": {
        "colab": {
          "base_uri": "https://localhost:8080/"
        },
        "id": "IU1mHYfy5TuT",
        "outputId": "050149fa-7e1d-4208-d8b4-75e188b2f2ad"
      },
      "execution_count": 97,
      "outputs": [
        {
          "output_type": "stream",
          "name": "stdout",
          "text": [
            "Reading data! \n",
            "\n",
            "Done reading data! \n",
            "\n"
          ]
        }
      ]
    },
    {
      "cell_type": "markdown",
      "source": [
        "Convert categorical variables to dummies.  One dummy for each binary variable and one dummy for each level for variables with more than two levels."
      ],
      "metadata": {
        "id": "usgZ9EA35bO-"
      }
    },
    {
      "cell_type": "code",
      "source": [
        "(my_df, property_names, target_property_names) = create_dummies(my_data,\n",
        "                                                           categorical_names,\n",
        "                                                           nan_is_level=True)"
      ],
      "metadata": {
        "id": "fOvGNfiy1Q-P"
      },
      "execution_count": 98,
      "outputs": []
    },
    {
      "cell_type": "markdown",
      "source": [
        "Define class, invariants, properties, and target properties (if applicable)."
      ],
      "metadata": {
        "id": "ROcYRN705h7C"
      }
    },
    {
      "cell_type": "code",
      "source": [
        "Example = create_example_class(my_df,\n",
        "                     invariant_names,\n",
        "                     property_names,\n",
        "                     categorical_names,\n",
        "                     target_property_names)"
      ],
      "metadata": {
        "id": "F--Jdvmu5i2Z"
      },
      "execution_count": 99,
      "outputs": []
    },
    {
      "cell_type": "markdown",
      "source": [
        "Split into training and testing data."
      ],
      "metadata": {
        "id": "zyjpeH1i5tAv"
      }
    },
    {
      "cell_type": "code",
      "source": [
        "if \"TARGET\" in categorical_names:\n",
        "    X_train, X_test = train_test_split(\n",
        "        my_df.index,\n",
        "        stratify=my_data[\"TARGET\"],  # stratify on target levels\n",
        "        train_size=num_train,\n",
        "        random_state=12345\n",
        "    )\n",
        "else:\n",
        "    X_train, X_test = train_test_split(\n",
        "        my_df.index,\n",
        "        train_size=num_train,\n",
        "        random_state=12345\n",
        "    )"
      ],
      "metadata": {
        "id": "9EBvH6bJ7e02"
      },
      "execution_count": 100,
      "outputs": []
    },
    {
      "cell_type": "markdown",
      "source": [
        "Create examples for conjecturing."
      ],
      "metadata": {
        "id": "4qEghOav5xvq"
      }
    },
    {
      "cell_type": "code",
      "source": [
        "train_examples = [Example(i, my_df) for i in X_train]\n",
        "test_examples = [Example(i, my_df) for i in X_test]"
      ],
      "metadata": {
        "id": "kWNjWris5xKr"
      },
      "execution_count": 101,
      "outputs": []
    },
    {
      "cell_type": "markdown",
      "source": [
        "Get lists of invariant and property functions."
      ],
      "metadata": {
        "id": "96I8UxpO52-S"
      }
    },
    {
      "cell_type": "code",
      "source": [
        "(invariants, properties, target_properties) = (\n",
        "        get_invariants_properties(Example,\n",
        "                                  invariant_names,\n",
        "                                  property_names,\n",
        "                                  categorical_names,\n",
        "                                  target_property_names)\n",
        "                                               )\n",
        "\n",
        "#print(properties)\n",
        "#for j in train_examples:\n",
        "#    print(properties[0].__name__)\n",
        "#    print(properties[0](j))"
      ],
      "metadata": {
        "id": "17eIqTnU52iS"
      },
      "execution_count": 102,
      "outputs": []
    },
    {
      "cell_type": "markdown",
      "source": [
        "Invariant conjecturing - upper and lower bounds."
      ],
      "metadata": {
        "id": "x5pEYlkG6LvD"
      }
    },
    {
      "cell_type": "code",
      "source": [
        "inv_file = open(my_path + inv_fname, \"w\")\n",
        "inv_conjectures = invariant_conjecturing(Example,\n",
        "                                         train_examples,\n",
        "                                         categorical_names,\n",
        "                                         target_property_names,\n",
        "                                         invariants,\n",
        "                                         use_operators,\n",
        "                                         complexity,\n",
        "                                         my_time,\n",
        "                                         my_skips,\n",
        "                                         inv_file,\n",
        "                                         my_path=my_path)\n",
        "\n",
        "## Evaluate a conjecture\n",
        "#for j in train_examples:\n",
        "#    print(inv_conjectures[3].__name__)\n",
        "#    print(j.SQUARE_FEET(), inv_conjectures[3].evaluate(j, returnBoundValue=True))\n",
        "#   # print(house_above_properties[0].evaluate(j, returnBoundValue=True), j.number_of_square_feet())"
      ],
      "metadata": {
        "colab": {
          "base_uri": "https://localhost:8080/"
        },
        "id": "ufVHU4ML55DH",
        "outputId": "9ad330c8-1270-492c-f71b-c817f1164c59"
      },
      "execution_count": 103,
      "outputs": [
        {
          "output_type": "stream",
          "name": "stdout",
          "text": [
            "TARGET_0\n",
            "0 1 2 3 4 5 6 7 8 9 10 \n",
            "number of conjectures 62\n",
            "TARGET_0 False\n",
            "0 1 2 3 4 5 6 7 8 9 10 \n",
            "number of conjectures 198\n"
          ]
        }
      ]
    },
    {
      "cell_type": "markdown",
      "source": [
        "Property conjecturing - sufficient conditions for a categorical target values.  For a binary target, get sufficient conditions for the positive class and necessary conditions for the negative class."
      ],
      "metadata": {
        "id": "jKW6bpo16Ros"
      }
    },
    {
      "cell_type": "code",
      "source": [
        "prop_file = open(my_path + prop_fname, \"w\")\n",
        "(prop_conjs, conditions) = property_conjecturing(Example,\n",
        "                                                 properties,\n",
        "                                                 inv_conjectures,\n",
        "                                                 categorical_names,\n",
        "                                                 target_property_names,\n",
        "                                                 train_examples,\n",
        "                                                 my_time,\n",
        "                                                 my_skips,\n",
        "                                                 prop_file,\n",
        "                                                 my_path=my_path)\n",
        "\n",
        "#print(\"conditions\")\n",
        "#print(conditions[\"TARGET_0\"][0].__name__)\n",
        "#for j in train_examples:\n",
        "#    print(j.SQUARE_FEET(), conditions[\"TARGET_0\"][0](j))\n",
        "#print(conditions[\"necessary\"][0].__name__)\n",
        "#for j in train_examples:\n",
        "#    print(j.SQUARE_FEET(), conditions[\"necessary\"][0](j))\n",
        "\n",
        "\n",
        "#for j in train_examples:\n",
        "#    print(prop_conjs[0].__name__)\n",
        "#    print(j.BEDS(), j.SQUARE_FEET(), prop_conjs[0].evaluate(j))\n",
        "\n"
      ],
      "metadata": {
        "colab": {
          "base_uri": "https://localhost:8080/"
        },
        "id": "BEGMHiJM6RIy",
        "outputId": "c92add25-0d3a-460e-c378-bcc32e27ca70"
      },
      "execution_count": 104,
      "outputs": [
        {
          "output_type": "stream",
          "name": "stdout",
          "text": [
            "TARGET_0\n",
            "TARGET_0 Necessary\n"
          ]
        }
      ]
    },
    {
      "cell_type": "markdown",
      "source": [
        "Apply property conjectures to train and test data if target is categorical."
      ],
      "metadata": {
        "id": "8pmAPhil6ZJs"
      }
    },
    {
      "cell_type": "code",
      "source": [
        "(X_train_df, X_test_df, y_train_df, y_test_df) =  (\n",
        "        apply_property_conjectures(my_data,\n",
        "                                   my_df,\n",
        "                                   X_train,\n",
        "                                   X_test,\n",
        "                                   property_names,\n",
        "                                   invariant_names,\n",
        "                                   categorical_names,\n",
        "                                   target_property_names,\n",
        "                                   conditions,\n",
        "                                   train_examples,\n",
        "                                   test_examples)\n",
        "        )\n",
        "\n"
      ],
      "metadata": {
        "id": "9Xo3uZfK6YaJ"
      },
      "execution_count": 105,
      "outputs": []
    },
    {
      "cell_type": "markdown",
      "source": [
        "Calculate support, precision, recall, lift, and F1.  The F1 score is only for the class for the sufficient condition it was derived for."
      ],
      "metadata": {
        "id": "aCpR4lAV6esg"
      }
    },
    {
      "cell_type": "code",
      "source": [
        "results_df = evaluate_property_conjectures(categorical_names,\n",
        "                              target_property_names,\n",
        "                              Example,\n",
        "                              conditions,\n",
        "                              test_examples,\n",
        "                              y_test_df)\n",
        "\n",
        "print(results_df)"
      ],
      "metadata": {
        "colab": {
          "base_uri": "https://localhost:8080/"
        },
        "id": "ZrQXlkqk6eRq",
        "outputId": "aecacf95-739c-47fc-d0f5-4e9301baddef"
      },
      "execution_count": 106,
      "outputs": [
        {
          "output_type": "stream",
          "name": "stdout",
          "text": [
            "       class  support  precision    recall      lift        f1\n",
            "0   TARGET_0        4   1.000000  0.012987  3.217532  0.025641\n",
            "1   TARGET_0      374   0.745989  0.905844  2.400245  0.818182\n",
            "2  necessary      152   0.881579  0.435065  1.279128  0.320958\n",
            "3  necessary      421   0.833729  1.139610  1.209701  0.635870\n",
            "4  necessary      132   0.553030  0.237013  0.802420  0.179141\n"
          ]
        }
      ]
    },
    {
      "cell_type": "code",
      "source": [],
      "metadata": {
        "id": "uSCs23u1H1Cf"
      },
      "execution_count": 106,
      "outputs": []
    }
  ]
}